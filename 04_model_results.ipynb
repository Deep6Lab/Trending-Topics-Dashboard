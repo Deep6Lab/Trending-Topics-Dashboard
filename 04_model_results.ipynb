{
 "cells": [
  {
   "cell_type": "markdown",
   "id": "f789780a",
   "metadata": {},
   "source": [
    "# Model Results\n",
    "\n",
    "This notebook performs clustering runs on various k-values and bias amounts, then produces model results for further analysis."
   ]
  },
  {
   "cell_type": "markdown",
   "id": "d07ac258",
   "metadata": {},
   "source": [
    "## Load Data"
   ]
  },
  {
   "cell_type": "code",
   "execution_count": 1,
   "id": "e18521bb",
   "metadata": {},
   "outputs": [],
   "source": [
    "import warnings\n",
    "warnings.filterwarnings('ignore')"
   ]
  },
  {
   "cell_type": "code",
   "execution_count": 2,
   "id": "c22bc712",
   "metadata": {},
   "outputs": [],
   "source": [
    "import numpy as np\n",
    "import pandas as pd\n",
    "from Biased_Clusters import get_silhouette"
   ]
  },
  {
   "cell_type": "code",
   "execution_count": 3,
   "id": "c70c8479",
   "metadata": {},
   "outputs": [],
   "source": [
    "# cleaned data\n",
    "df = pd.read_csv('data/data_cleaned.csv')"
   ]
  },
  {
   "cell_type": "code",
   "execution_count": 4,
   "id": "8e27b3a6",
   "metadata": {},
   "outputs": [],
   "source": [
    "import json\n",
    "import scipy.sparse\n",
    "\n",
    "# load training data\n",
    "x_vector = np.load('data/x_vector.npy')\n",
    "\n",
    "# load terms sparse matrix\n",
    "terms_sparse_matrix = scipy.sparse.load_npz('data/terms_sparse_matrix.npz')\n",
    "\n",
    "# load terms label\n",
    "with open(\"data/terms_label.txt\", \"r\") as fp:\n",
    "    terms_label = json.load(fp)"
   ]
  },
  {
   "cell_type": "markdown",
   "id": "dd81fba8",
   "metadata": {},
   "source": [
    "## Run KMeans Models on Various k-values and Bias Amounts"
   ]
  },
  {
   "cell_type": "code",
   "execution_count": 5,
   "id": "9aa33371",
   "metadata": {},
   "outputs": [],
   "source": [
    "def build_result_data(df, x_vector, n_clusters, max_range=1000):\n",
    "    # run k-mean model on various bias amounts and build the result dataframe\n",
    "    data = []\n",
    "    for m in tqdm(range(1, max_range,10)):\n",
    "        m = m*.01\n",
    "        #print(m)\n",
    "        try:\n",
    "            data.append(get_silhouette(df, x_vector, m, n_clusters))\n",
    "        except ValueError:\n",
    "            continue\n",
    "    \n",
    "    # create a data frame of result\n",
    "    df_result = pd.DataFrame(data)\n",
    "    \n",
    "    return df_result"
   ]
  },
  {
   "cell_type": "code",
   "execution_count": 6,
   "id": "0380617c",
   "metadata": {},
   "outputs": [
    {
     "name": "stderr",
     "output_type": "stream",
     "text": [
      "100%|██████████| 200/200 [01:47<00:00,  1.86it/s]\n",
      "100%|██████████| 200/200 [01:53<00:00,  1.76it/s]\n",
      "100%|██████████| 200/200 [01:58<00:00,  1.69it/s]\n",
      "100%|██████████| 200/200 [02:00<00:00,  1.65it/s]\n",
      "100%|██████████| 200/200 [02:04<00:00,  1.61it/s]\n",
      "100%|██████████| 200/200 [02:13<00:00,  1.50it/s]\n",
      "100%|██████████| 200/200 [02:45<00:00,  1.21it/s]\n",
      "100%|██████████| 200/200 [03:18<00:00,  1.01it/s]\n",
      "100%|██████████| 200/200 [02:44<00:00,  1.22it/s]\n",
      "100%|██████████| 200/200 [02:48<00:00,  1.19it/s]\n",
      "100%|██████████| 200/200 [02:52<00:00,  1.16it/s]\n",
      "100%|██████████| 200/200 [02:55<00:00,  1.14it/s]\n",
      "100%|██████████| 200/200 [03:33<00:00,  1.07s/it]\n",
      "100%|██████████| 200/200 [03:07<00:00,  1.06it/s]\n",
      "100%|██████████| 200/200 [03:14<00:00,  1.03it/s]\n",
      "100%|██████████| 200/200 [03:19<00:00,  1.00it/s]\n",
      "100%|██████████| 200/200 [04:11<00:00,  1.26s/it]\n",
      "100%|██████████| 200/200 [03:45<00:00,  1.13s/it]\n",
      "100%|██████████| 200/200 [04:35<00:00,  1.38s/it]\n",
      "100%|██████████| 200/200 [04:05<00:00,  1.23s/it]\n",
      "100%|██████████| 200/200 [04:06<00:00,  1.23s/it]\n",
      "100%|██████████| 200/200 [04:18<00:00,  1.29s/it]\n",
      "100%|██████████| 200/200 [04:27<00:00,  1.34s/it]\n",
      "100%|██████████| 200/200 [04:05<00:00,  1.23s/it]\n",
      "100%|██████████| 200/200 [04:10<00:00,  1.25s/it]\n",
      "100%|██████████| 200/200 [04:29<00:00,  1.35s/it]\n"
     ]
    }
   ],
   "source": [
    "from tqdm import tqdm\n",
    "\n",
    "# create an empty list to store the result data frame\n",
    "result_list = []\n",
    "k_values = []             # a list of k-values\n",
    "avg_sil_scores = []       # a list of average Silhouette score per k-value\n",
    "\n",
    "# run KMeans model on 25 different k-values\n",
    "for n_clusters in range(5, 31):\n",
    "    # get model result and save to a list\n",
    "    df_result = build_result_data(df, x_vector, n_clusters, 2000)\n",
    "    result_list.append(df_result)\n",
    "    \n",
    "    # compute average Silhouette score for each k value\n",
    "    k_values.append(n_clusters)\n",
    "    avg_sil_scores.append(df_result['Silhouette Score'].mean())"
   ]
  },
  {
   "cell_type": "markdown",
   "id": "f1ea058d",
   "metadata": {},
   "source": [
    "## Save Results"
   ]
  },
  {
   "cell_type": "code",
   "execution_count": 7,
   "id": "2580981d",
   "metadata": {},
   "outputs": [],
   "source": [
    "# save the result data frames to csv files\n",
    "for n_clusters in range(5, 31):\n",
    "    result_list[n_clusters-5].to_csv('results/results_' + str(n_clusters) + '.csv', index=False)"
   ]
  },
  {
   "cell_type": "code",
   "execution_count": 8,
   "id": "185b2adc",
   "metadata": {},
   "outputs": [],
   "source": [
    "# save average Silhouette score per k\n",
    "df_avg_sil = pd.DataFrame(dict({'Number of Topics': k_values, 'Average Silhouette Score': avg_sil_scores}))\n",
    "df_avg_sil.to_csv('results/avg_sil_per_k.csv', index=False)"
   ]
  }
 ],
 "metadata": {
  "kernelspec": {
   "display_name": "Python 3",
   "language": "python",
   "name": "python3"
  },
  "language_info": {
   "codemirror_mode": {
    "name": "ipython",
    "version": 3
   },
   "file_extension": ".py",
   "mimetype": "text/x-python",
   "name": "python",
   "nbconvert_exporter": "python",
   "pygments_lexer": "ipython3",
   "version": "3.8.8"
  }
 },
 "nbformat": 4,
 "nbformat_minor": 5
}
